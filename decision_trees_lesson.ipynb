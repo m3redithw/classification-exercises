{
 "cells": [
  {
   "cell_type": "markdown",
   "id": "9103890b",
   "metadata": {},
   "source": [
    "# Decision Tree Lesson"
   ]
  },
  {
   "cell_type": "code",
   "execution_count": 1,
   "id": "7f3cd1c7-800a-4481-b4e1-8dc0bf17e0f9",
   "metadata": {},
   "outputs": [],
   "source": [
    "# General DS Imports\n",
    "import matplotlib.pyplot as plt\n",
    "import numpy as np\n",
    "import pandas as pd\n",
    "import seaborn as sns"
   ]
  },
  {
   "cell_type": "code",
   "execution_count": 2,
   "id": "5d986166-7524-447a-9ff1-67b393194056",
   "metadata": {},
   "outputs": [],
   "source": [
    "# Decision Tree and Model Evaluation Imports\n",
    "from sklearn.tree import DecisionTreeClassifier, plot_tree, export_text\n",
    "from sklearn.model_selection import train_test_split\n",
    "from sklearn.metrics import classification_report, confusion_matrix, plot_confusion_matrix"
   ]
  },
  {
   "cell_type": "markdown",
   "id": "af6b1cb6",
   "metadata": {},
   "source": [
    "### Question: Can we predict whether someone is a smoker based on the tips data?"
   ]
  },
  {
   "cell_type": "code",
   "execution_count": 3,
   "id": "a65c57d8",
   "metadata": {},
   "outputs": [],
   "source": [
    "np.random.seed(25)\n",
    "tips = sns.load_dataset('tips')"
   ]
  },
  {
   "cell_type": "code",
   "execution_count": null,
   "id": "3a0096d3",
   "metadata": {},
   "outputs": [],
   "source": [
    "tips.head()"
   ]
  },
  {
   "cell_type": "code",
   "execution_count": 4,
   "id": "10ea1bc5",
   "metadata": {},
   "outputs": [
    {
     "data": {
      "text/html": [
       "<div>\n",
       "<style scoped>\n",
       "    .dataframe tbody tr th:only-of-type {\n",
       "        vertical-align: middle;\n",
       "    }\n",
       "\n",
       "    .dataframe tbody tr th {\n",
       "        vertical-align: top;\n",
       "    }\n",
       "\n",
       "    .dataframe thead th {\n",
       "        text-align: right;\n",
       "    }\n",
       "</style>\n",
       "<table border=\"1\" class=\"dataframe\">\n",
       "  <thead>\n",
       "    <tr style=\"text-align: right;\">\n",
       "      <th></th>\n",
       "      <th>total_bill</th>\n",
       "      <th>tip</th>\n",
       "      <th>smoker</th>\n",
       "      <th>size</th>\n",
       "      <th>sex_Female</th>\n",
       "      <th>day_Fri</th>\n",
       "      <th>day_Sat</th>\n",
       "      <th>day_Sun</th>\n",
       "      <th>time_Dinner</th>\n",
       "    </tr>\n",
       "  </thead>\n",
       "  <tbody>\n",
       "    <tr>\n",
       "      <th>0</th>\n",
       "      <td>16.99</td>\n",
       "      <td>1.01</td>\n",
       "      <td>No</td>\n",
       "      <td>2</td>\n",
       "      <td>1</td>\n",
       "      <td>0</td>\n",
       "      <td>0</td>\n",
       "      <td>1</td>\n",
       "      <td>1</td>\n",
       "    </tr>\n",
       "    <tr>\n",
       "      <th>1</th>\n",
       "      <td>10.34</td>\n",
       "      <td>1.66</td>\n",
       "      <td>No</td>\n",
       "      <td>3</td>\n",
       "      <td>0</td>\n",
       "      <td>0</td>\n",
       "      <td>0</td>\n",
       "      <td>1</td>\n",
       "      <td>1</td>\n",
       "    </tr>\n",
       "    <tr>\n",
       "      <th>2</th>\n",
       "      <td>21.01</td>\n",
       "      <td>3.50</td>\n",
       "      <td>No</td>\n",
       "      <td>3</td>\n",
       "      <td>0</td>\n",
       "      <td>0</td>\n",
       "      <td>0</td>\n",
       "      <td>1</td>\n",
       "      <td>1</td>\n",
       "    </tr>\n",
       "    <tr>\n",
       "      <th>3</th>\n",
       "      <td>23.68</td>\n",
       "      <td>3.31</td>\n",
       "      <td>No</td>\n",
       "      <td>2</td>\n",
       "      <td>0</td>\n",
       "      <td>0</td>\n",
       "      <td>0</td>\n",
       "      <td>1</td>\n",
       "      <td>1</td>\n",
       "    </tr>\n",
       "    <tr>\n",
       "      <th>4</th>\n",
       "      <td>24.59</td>\n",
       "      <td>3.61</td>\n",
       "      <td>No</td>\n",
       "      <td>4</td>\n",
       "      <td>1</td>\n",
       "      <td>0</td>\n",
       "      <td>0</td>\n",
       "      <td>1</td>\n",
       "      <td>1</td>\n",
       "    </tr>\n",
       "  </tbody>\n",
       "</table>\n",
       "</div>"
      ],
      "text/plain": [
       "   total_bill   tip smoker  size  sex_Female  day_Fri  day_Sat  day_Sun  \\\n",
       "0       16.99  1.01     No     2           1        0        0        1   \n",
       "1       10.34  1.66     No     3           0        0        0        1   \n",
       "2       21.01  3.50     No     3           0        0        0        1   \n",
       "3       23.68  3.31     No     2           0        0        0        1   \n",
       "4       24.59  3.61     No     4           1        0        0        1   \n",
       "\n",
       "   time_Dinner  \n",
       "0            1  \n",
       "1            1  \n",
       "2            1  \n",
       "3            1  \n",
       "4            1  "
      ]
     },
     "execution_count": 4,
     "metadata": {},
     "output_type": "execute_result"
    }
   ],
   "source": [
    "tips = pd.get_dummies(tips, columns=['sex', 'day', 'time'], drop_first=True)\n",
    "tips.head()"
   ]
  },
  {
   "cell_type": "code",
   "execution_count": 5,
   "id": "d7b795c1-4e18-4ac1-9148-f0a84d3c2380",
   "metadata": {},
   "outputs": [],
   "source": [
    "X = tips[['total_bill', 'tip', 'size']]\n",
    "y = tips.smoker\n",
    "\n",
    "X_train_and_validate, X_test, y_train_and_validate, y_test = train_test_split(X, y, random_state=123, test_size=.3)\n",
    "X_train, X_validate, y_train, y_validate = train_test_split(X_train_and_validate, y_train_and_validate, random_state=123, test_size=.2)"
   ]
  },
  {
   "cell_type": "code",
   "execution_count": 6,
   "id": "8111d57f",
   "metadata": {},
   "outputs": [
    {
     "data": {
      "text/html": [
       "<div>\n",
       "<style scoped>\n",
       "    .dataframe tbody tr th:only-of-type {\n",
       "        vertical-align: middle;\n",
       "    }\n",
       "\n",
       "    .dataframe tbody tr th {\n",
       "        vertical-align: top;\n",
       "    }\n",
       "\n",
       "    .dataframe thead th {\n",
       "        text-align: right;\n",
       "    }\n",
       "</style>\n",
       "<table border=\"1\" class=\"dataframe\">\n",
       "  <thead>\n",
       "    <tr style=\"text-align: right;\">\n",
       "      <th></th>\n",
       "      <th>total_bill</th>\n",
       "      <th>tip</th>\n",
       "      <th>size</th>\n",
       "    </tr>\n",
       "  </thead>\n",
       "  <tbody>\n",
       "    <tr>\n",
       "      <th>113</th>\n",
       "      <td>23.95</td>\n",
       "      <td>2.55</td>\n",
       "      <td>2</td>\n",
       "    </tr>\n",
       "    <tr>\n",
       "      <th>100</th>\n",
       "      <td>11.35</td>\n",
       "      <td>2.50</td>\n",
       "      <td>2</td>\n",
       "    </tr>\n",
       "    <tr>\n",
       "      <th>13</th>\n",
       "      <td>18.43</td>\n",
       "      <td>3.00</td>\n",
       "      <td>4</td>\n",
       "    </tr>\n",
       "    <tr>\n",
       "      <th>152</th>\n",
       "      <td>17.26</td>\n",
       "      <td>2.74</td>\n",
       "      <td>3</td>\n",
       "    </tr>\n",
       "    <tr>\n",
       "      <th>94</th>\n",
       "      <td>22.75</td>\n",
       "      <td>3.25</td>\n",
       "      <td>2</td>\n",
       "    </tr>\n",
       "  </tbody>\n",
       "</table>\n",
       "</div>"
      ],
      "text/plain": [
       "     total_bill   tip  size\n",
       "113       23.95  2.55     2\n",
       "100       11.35  2.50     2\n",
       "13        18.43  3.00     4\n",
       "152       17.26  2.74     3\n",
       "94        22.75  3.25     2"
      ]
     },
     "execution_count": 6,
     "metadata": {},
     "output_type": "execute_result"
    }
   ],
   "source": [
    "X_train.head()"
   ]
  },
  {
   "cell_type": "code",
   "execution_count": 7,
   "id": "33289aea",
   "metadata": {},
   "outputs": [
    {
     "data": {
      "text/plain": [
       "113     No\n",
       "100    Yes\n",
       "13      No\n",
       "152     No\n",
       "94      No\n",
       "Name: smoker, dtype: category\n",
       "Categories (2, object): ['Yes', 'No']"
      ]
     },
     "execution_count": 7,
     "metadata": {},
     "output_type": "execute_result"
    }
   ],
   "source": [
    "y_train[:5]"
   ]
  },
  {
   "cell_type": "code",
   "execution_count": 8,
   "id": "6a6ccf0c",
   "metadata": {},
   "outputs": [
    {
     "data": {
      "text/plain": [
       "No     83\n",
       "Yes    53\n",
       "Name: smoker, dtype: int64"
      ]
     },
     "execution_count": 8,
     "metadata": {},
     "output_type": "execute_result"
    }
   ],
   "source": [
    "y_train.value_counts()"
   ]
  },
  {
   "cell_type": "markdown",
   "id": "3542f0f1",
   "metadata": {},
   "source": [
    "## Decision Tree Modeling\n",
    "\n",
    "#### Step 1: Create Your Recipe"
   ]
  },
  {
   "cell_type": "code",
   "execution_count": 9,
   "id": "e7852b6d",
   "metadata": {},
   "outputs": [],
   "source": [
    "# Create the decision tree object and specify hyperparams\n",
    "tree = DecisionTreeClassifier(max_depth = 3)"
   ]
  },
  {
   "cell_type": "markdown",
   "id": "853843df",
   "metadata": {},
   "source": [
    "#### Step 2: Fit your model to your in-sample data (train)\n",
    "\n",
    "Until a model learns from your data, its just an algorithm. After it has learned and changed its algorithmic structure (i.e. has decided which questions to ask and in what order), then it can be called a model."
   ]
  },
  {
   "cell_type": "code",
   "execution_count": 10,
   "id": "5ad66da9-5de3-484a-890d-ef4edcaa9923",
   "metadata": {},
   "outputs": [
    {
     "name": "stdout",
     "output_type": "stream",
     "text": [
      "|--- total_bill <= 32.65\n",
      "|   |--- tip <= 1.00\n",
      "|   |   |--- class: Yes\n",
      "|   |--- tip >  1.00\n",
      "|   |   |--- total_bill <= 28.36\n",
      "|   |   |   |--- class: No\n",
      "|   |   |--- total_bill >  28.36\n",
      "|   |   |   |--- class: No\n",
      "|--- total_bill >  32.65\n",
      "|   |--- size <= 5.00\n",
      "|   |   |--- class: Yes\n",
      "|   |--- size >  5.00\n",
      "|   |   |--- class: No\n",
      "\n"
     ]
    }
   ],
   "source": [
    "tree.fit(X_train, y_train)\n",
    "\n",
    "# Rudimentary visualization of model structure\n",
    "print(export_text(tree, feature_names=X_train.columns.tolist()))"
   ]
  },
  {
   "cell_type": "code",
   "execution_count": 11,
   "id": "094fb5b9-fdf5-4159-8018-f7bf0fdbb79c",
   "metadata": {},
   "outputs": [
    {
     "data": {
      "image/png": "[encoded data removed]",
      "text/plain": [
       "<Figure size 864x504 with 1 Axes>"
      ]
     },
     "metadata": {
      "needs_background": "light"
     },
     "output_type": "display_data"
    }
   ],
   "source": [
    "# Visualize the tree\n",
    "plt.figure(figsize=(12, 7))\n",
    "plot_tree(tree, feature_names=X_train.columns, class_names=y_train.unique())\n",
    "plt.show()"
   ]
  },
  {
   "cell_type": "markdown",
   "id": "b4003312",
   "metadata": {},
   "source": [
    "#### Step 3: Use your model to make predictions on the in-sample data"
   ]
  },
  {
   "cell_type": "code",
   "execution_count": 12,
   "id": "7b075b9d-3a96-4045-893e-364979316f94",
   "metadata": {},
   "outputs": [
    {
     "data": {
      "text/plain": [
       "array(['No', 'No', 'No', 'No', 'No', 'No', 'No', 'No', 'No', 'No', 'No',\n",
       "       'No', 'No', 'No', 'No', 'No', 'Yes', 'No', 'No', 'Yes', 'No', 'No',\n",
       "       'No', 'No', 'No', 'No', 'No', 'No', 'No', 'No', 'No', 'No', 'No',\n",
       "       'No', 'No', 'No', 'No', 'No', 'No', 'No', 'No', 'No', 'No', 'No',\n",
       "       'No', 'No', 'No', 'No', 'No', 'No', 'No', 'No', 'No', 'No', 'No',\n",
       "       'No', 'No', 'Yes', 'No', 'Yes', 'No', 'No', 'No', 'No', 'No',\n",
       "       'Yes', 'No', 'No', 'No', 'No', 'No', 'No', 'No', 'No', 'No', 'No',\n",
       "       'No', 'No', 'No', 'No', 'No', 'No', 'No', 'No', 'No', 'No', 'No',\n",
       "       'No', 'No', 'No', 'No', 'No', 'No', 'No', 'No', 'No', 'No', 'No',\n",
       "       'No', 'No', 'No', 'No', 'Yes', 'Yes', 'No', 'No', 'No', 'No', 'No',\n",
       "       'No', 'No', 'No', 'No', 'No', 'No', 'No', 'No', 'No', 'No', 'No',\n",
       "       'No', 'Yes', 'No', 'No', 'No', 'No', 'No', 'No', 'No', 'No', 'No',\n",
       "       'No', 'No', 'No', 'Yes', 'No'], dtype=object)"
      ]
     },
     "execution_count": 12,
     "metadata": {},
     "output_type": "execute_result"
    }
   ],
   "source": [
    "tree.predict(X_train)"
   ]
  },
  {
   "cell_type": "code",
   "execution_count": 13,
   "id": "75cb5884",
   "metadata": {},
   "outputs": [],
   "source": [
    "predictions = tree.predict(X_train)\n",
    "actual = y_train"
   ]
  },
  {
   "cell_type": "markdown",
   "id": "32345f54",
   "metadata": {},
   "source": [
    "#### Step 4: Evaluate your predictions"
   ]
  },
  {
   "cell_type": "code",
   "execution_count": null,
   "id": "478eebb3",
   "metadata": {},
   "outputs": [],
   "source": [
    "confusion_matrix(actual, predictions)"
   ]
  },
  {
   "cell_type": "code",
   "execution_count": 14,
   "id": "15443011",
   "metadata": {},
   "outputs": [
    {
     "data": {
      "text/html": [
       "<div>\n",
       "<style scoped>\n",
       "    .dataframe tbody tr th:only-of-type {\n",
       "        vertical-align: middle;\n",
       "    }\n",
       "\n",
       "    .dataframe tbody tr th {\n",
       "        vertical-align: top;\n",
       "    }\n",
       "\n",
       "    .dataframe thead th {\n",
       "        text-align: right;\n",
       "    }\n",
       "</style>\n",
       "<table border=\"1\" class=\"dataframe\">\n",
       "  <thead>\n",
       "    <tr style=\"text-align: right;\">\n",
       "      <th>col_0</th>\n",
       "      <th>No</th>\n",
       "      <th>Yes</th>\n",
       "    </tr>\n",
       "    <tr>\n",
       "      <th>smoker</th>\n",
       "      <th></th>\n",
       "      <th></th>\n",
       "    </tr>\n",
       "  </thead>\n",
       "  <tbody>\n",
       "    <tr>\n",
       "      <th>Yes</th>\n",
       "      <td>44</td>\n",
       "      <td>9</td>\n",
       "    </tr>\n",
       "    <tr>\n",
       "      <th>No</th>\n",
       "      <td>83</td>\n",
       "      <td>0</td>\n",
       "    </tr>\n",
       "  </tbody>\n",
       "</table>\n",
       "</div>"
      ],
      "text/plain": [
       "col_0   No  Yes\n",
       "smoker         \n",
       "Yes     44    9\n",
       "No      83    0"
      ]
     },
     "execution_count": 14,
     "metadata": {},
     "output_type": "execute_result"
    }
   ],
   "source": [
    "pd.crosstab(actual, predictions)"
   ]
  },
  {
   "cell_type": "code",
   "execution_count": null,
   "id": "502e8733",
   "metadata": {},
   "outputs": [],
   "source": [
    "plot_confusion_matrix(tree, X_train, y_train, display_labels=['Non-Smoker', 'Smoker'])"
   ]
  },
  {
   "cell_type": "code",
   "execution_count": null,
   "id": "5e474465",
   "metadata": {},
   "outputs": [],
   "source": [
    "print(classification_report(actual, predictions))"
   ]
  },
  {
   "cell_type": "markdown",
   "id": "72b05519",
   "metadata": {},
   "source": [
    "#### Step 5: Use best n models on out-of-sample data (validate)\n",
    "\n",
    "In this case, I only have one model"
   ]
  },
  {
   "cell_type": "code",
   "execution_count": null,
   "id": "8ae89297-a2b1-46e6-9664-909c92f6faa0",
   "metadata": {},
   "outputs": [],
   "source": [
    "predictions = tree.predict(X_validate)\n",
    "actual = y_validate\n",
    "\n",
    "print(classification_report(actual, predictions))"
   ]
  },
  {
   "cell_type": "markdown",
   "id": "3aec1ec3",
   "metadata": {},
   "source": [
    "#### Step 6: Use single best model to make predictions from out-of-sample data (test)"
   ]
  },
  {
   "cell_type": "code",
   "execution_count": null,
   "id": "5be5cad1",
   "metadata": {},
   "outputs": [],
   "source": [
    "predictions = tree.predict(X_test)\n",
    "actual = y_test\n",
    "\n",
    "print(classification_report(actual, predictions))"
   ]
  },
  {
   "cell_type": "markdown",
   "id": "edad3138",
   "metadata": {},
   "source": [
    "#### Bonus: What happens if we change some of the hyperparameters?\n",
    "\n",
    "Let's try changing max depth to none. This model will ask questions until every leaf gini is as small as absolutely possible:"
   ]
  },
  {
   "cell_type": "code",
   "execution_count": null,
   "id": "aad11fa7-2a45-4a93-87e6-a322d38c1f50",
   "metadata": {},
   "outputs": [],
   "source": [
    "# Create the decision tree object and specify hyperparams\n",
    "tree = DecisionTreeClassifier(max_depth=None) \n",
    "tree.fit(X_train, y_train)\n",
    "\n",
    "print(export_text(tree, feature_names=X_train.columns.tolist()))"
   ]
  },
  {
   "cell_type": "code",
   "execution_count": null,
   "id": "9c78d376-f9af-4bd6-a117-c2621c92ea97",
   "metadata": {},
   "outputs": [],
   "source": [
    "plt.figure(figsize=(16, 9), dpi=300)\n",
    "plot_tree(tree, feature_names=X_train.columns, class_names=y_train.unique())\n",
    "plt.show()"
   ]
  },
  {
   "cell_type": "markdown",
   "id": "a4b779e1",
   "metadata": {},
   "source": [
    "#### How accurate is our crazy model on our training data?"
   ]
  },
  {
   "cell_type": "code",
   "execution_count": null,
   "id": "a9123324-49f5-47fa-acd0-fcff54958dbd",
   "metadata": {},
   "outputs": [],
   "source": [
    "tree.score(X_train, y_train) # 100%!"
   ]
  },
  {
   "cell_type": "markdown",
   "id": "e560e8f2",
   "metadata": {},
   "source": [
    "#### How accurate is our crazy model on out-of-sample data?"
   ]
  },
  {
   "cell_type": "code",
   "execution_count": null,
   "id": "74d812af-d575-4eb3-b064-e5be4e080d7f",
   "metadata": {},
   "outputs": [],
   "source": [
    "tree.score(X_validate, y_validate) "
   ]
  },
  {
   "cell_type": "code",
   "execution_count": null,
   "id": "7c27ccfc",
   "metadata": {},
   "outputs": [],
   "source": [
    "y_validate.value_counts(normalize=True)"
   ]
  },
  {
   "cell_type": "markdown",
   "id": "daa25629",
   "metadata": {},
   "source": [
    "We would have had better accuracy just guessing \"No\" on everything"
   ]
  },
  {
   "cell_type": "markdown",
   "id": "e33ef35c-6112-48c8-ab0c-cea86954d243",
   "metadata": {},
   "source": [
    "## What did we miss? What can we do next?\n",
    "\n",
    "- Making a baseline model and properly evaluating it\n",
    "- Make more models, try out different combinations of independent variables and hyperparameters\n",
    "> **Note**: Our X can change, but our y remains constant\n",
    "- Quantify and compare those models (on validate!) against each other and the baseline\n",
    "\n",
    "## Pruning\n",
    "Decision Trees have a high risk of being overfit to our training data. We can use `max_depth` and `min_samples` as a way to reduce overfitting. We could build a process that exhaustively checked every hyperparameter combination or we can use an existing process:\n",
    "- Look into [`cost_complexity_pruning_path`](https://scikit-learn.org/stable/auto_examples/tree/plot_cost_complexity_pruning.html)\n",
    "\n",
    "# Exercises\n",
    "\n",
    "Using the titanic data, in your classification-exercises repository, create a notebook, `model.ipynb` where you will do the following:\n",
    "\n",
    "1. What is your baseline prediction? What is your baseline accuracy? remember: your baseline prediction for a classification problem is predicting the most prevelant class in the training dataset (the mode). When you make those predictions, what is your accuracy? This is your baseline accuracy.\n",
    "\n",
    "2. Fit the decision tree classifier to your training sample and transform (i.e. make predictions on the training sample)\n",
    "\n",
    "3. Evaluate your in-sample results using the model score, confusion matrix, and classification report.\n",
    "\n",
    "4. Compute: Accuracy, true positive rate, false positive rate, true negative rate, false negative rate, precision, recall, f1-score, and support.\n",
    "\n",
    "5. Run through steps 2-4 using a different max_depth value.\n",
    "\n",
    "6. Which model performs better on your in-sample data?\n",
    "\n",
    "7. Which model performs best on your out-of-sample data, the validate set?\n",
    "\n",
    "8. Work through these same exercises using the Telco dataset."
   ]
  },
  {
   "cell_type": "code",
   "execution_count": null,
   "id": "1d5d3424",
   "metadata": {},
   "outputs": [],
   "source": []
  }
 ],
 "metadata": {
  "kernelspec": {
   "display_name": "Python 3 (ipykernel)",
   "language": "python",
   "name": "python3"
  },
  "language_info": {
   "codemirror_mode": {
    "name": "ipython",
    "version": 3
   },
   "file_extension": ".py",
   "mimetype": "text/x-python",
   "name": "python",
   "nbconvert_exporter": "python",
   "pygments_lexer": "ipython3",
   "version": "3.9.12"
  }
 },
 "nbformat": 4,
 "nbformat_minor": 5
}
